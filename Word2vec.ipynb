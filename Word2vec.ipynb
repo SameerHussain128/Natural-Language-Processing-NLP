{
 "cells": [
  {
   "cell_type": "code",
   "execution_count": 1,
   "id": "34b8baeb",
   "metadata": {},
   "outputs": [],
   "source": [
    "import nltk"
   ]
  },
  {
   "cell_type": "code",
   "execution_count": 2,
   "id": "a9cf1d77",
   "metadata": {},
   "outputs": [],
   "source": [
    "from gensim.models import Word2Vec\n",
    "from nltk.corpus import stopwords"
   ]
  },
  {
   "cell_type": "code",
   "execution_count": 3,
   "id": "f2c39ed8",
   "metadata": {},
   "outputs": [],
   "source": [
    "import re"
   ]
  },
  {
   "cell_type": "code",
   "execution_count": 4,
   "id": "42b926ef",
   "metadata": {},
   "outputs": [],
   "source": [
    "paragraph = \"\"\"I have three visions for India. In 3000 years of our history, people from all over \n",
    "               the world have come and invaded us, captured our lands, conquered our minds. \n",
    "               From Alexander onwards, the Greeks, the Turks, the Moguls, the Portuguese, the British,\n",
    "               the French, the Dutch, all of them came and looted us, took over what was ours. \n",
    "               Yet we have not done this to any other nation. We have not conquered anyone. \n",
    "               We have not grabbed their land, their culture, \n",
    "               their history and tried to enforce our way of life on them. \n",
    "               Why? Because we respect the freedom of others.That is why my \n",
    "               first vision is that of freedom. I believe that India got its first vision of \n",
    "               this in 1857, when we started the War of Independence. It is this freedom that\n",
    "               we must protect and nurture and build on. If we are not free, no one will respect us.\n",
    "               My second vision for India’s development. For fifty years we have been a developing nation.\n",
    "               It is time we see ourselves as a developed nation. We are among the top 5 nations of the world\n",
    "               in terms of GDP. We have a 10 percent growth rate in most areas. Our poverty levels are falling.\n",
    "               Our achievements are being globally recognised today. Yet we lack the self-confidence to\n",
    "               see ourselves as a developed nation, self-reliant and self-assured. Isn’t this incorrect?\n",
    "               I have a third vision. India must stand up to the world. Because I believe that unless India \n",
    "               stands up to the world, no one will respect us. Only strength respects strength. We must be \n",
    "               strong not only as a military power but also as an economic power. Both must go hand-in-hand. \n",
    "               My good fortune was to have worked with three great minds. Dr. Vikram Sarabhai of the Dept. of \n",
    "               space, Professor Satish Dhawan, who succeeded him and Dr. Brahm Prakash, father of nuclear material.\n",
    "               I was lucky to have worked with all three of them closely and consider this the great opportunity of my life. \n",
    "               I see four milestones in my career\"\"\""
   ]
  },
  {
   "cell_type": "code",
   "execution_count": 5,
   "id": "f556fecb",
   "metadata": {},
   "outputs": [],
   "source": [
    "# Preprocessing the data\n",
    "text = re.sub(r'\\[[0-9]*\\]',' ',paragraph)\n",
    "text = re.sub(r'\\s+',' ',text)\n",
    "text = text.lower()\n",
    "text = re.sub(r'\\d',' ',text)\n",
    "text = re.sub(r'\\s+',' ',text)"
   ]
  },
  {
   "cell_type": "code",
   "execution_count": 6,
   "id": "6c71fd92",
   "metadata": {},
   "outputs": [],
   "source": [
    "# Preparing the dataset\n",
    "sentences = nltk.sent_tokenize(text)"
   ]
  },
  {
   "cell_type": "code",
   "execution_count": 7,
   "id": "b5f50eeb",
   "metadata": {},
   "outputs": [
    {
     "data": {
      "text/plain": [
       "'i have three visions for india. in years of our history, people from all over the world have come and invaded us, captured our lands, conquered our minds. from alexander onwards, the greeks, the turks, the moguls, the portuguese, the british, the french, the dutch, all of them came and looted us, took over what was ours. yet we have not done this to any other nation. we have not conquered anyone. we have not grabbed their land, their culture, their history and tried to enforce our way of life on them. why? because we respect the freedom of others.that is why my first vision is that of freedom. i believe that india got its first vision of this in , when we started the war of independence. it is this freedom that we must protect and nurture and build on. if we are not free, no one will respect us. my second vision for india’s development. for fifty years we have been a developing nation. it is time we see ourselves as a developed nation. we are among the top nations of the world in terms of gdp. we have a percent growth rate in most areas. our poverty levels are falling. our achievements are being globally recognised today. yet we lack the self-confidence to see ourselves as a developed nation, self-reliant and self-assured. isn’t this incorrect? i have a third vision. india must stand up to the world. because i believe that unless india stands up to the world, no one will respect us. only strength respects strength. we must be strong not only as a military power but also as an economic power. both must go hand-in-hand. my good fortune was to have worked with three great minds. dr. vikram sarabhai of the dept. of space, professor satish dhawan, who succeeded him and dr. brahm prakash, father of nuclear material. i was lucky to have worked with all three of them closely and consider this the great opportunity of my life. i see four milestones in my career'"
      ]
     },
     "execution_count": 7,
     "metadata": {},
     "output_type": "execute_result"
    }
   ],
   "source": [
    "text"
   ]
  },
  {
   "cell_type": "code",
   "execution_count": 8,
   "id": "3e44aa7c",
   "metadata": {},
   "outputs": [],
   "source": [
    "sentences = [nltk.word_tokenize(sentence) for sentence in sentences]"
   ]
  },
  {
   "cell_type": "code",
   "execution_count": 9,
   "id": "ea869755",
   "metadata": {},
   "outputs": [],
   "source": [
    "for i in range(len(sentences)):\n",
    "    sentences[i] = [word for word in sentences[i] if word not in stopwords.words('english')]"
   ]
  },
  {
   "cell_type": "code",
   "execution_count": 10,
   "id": "64fde693",
   "metadata": {},
   "outputs": [],
   "source": [
    "# Initialize and train the Word2Vec model\n",
    "# model = Word2Vec(sentences, min_count=1, vector_size=100, window=5, sg=0)\n",
    "model = Word2Vec(sentences, min_count=1)\n",
    "#if the word is present < then 1 then use to skip the  conunt and as my data is very small \n",
    "#word2vec is applied for huge amount of data"
   ]
  },
  {
   "cell_type": "code",
   "execution_count": 11,
   "id": "b4c0992a",
   "metadata": {},
   "outputs": [],
   "source": [
    "# Accessing the vocabulary using key_to_index\n",
    "vocabulary = model.wv.key_to_index\n",
    "# in this paragrapb if we want to find the vocalbulary & create a object called words\n",
    "# if you select then each & every word there may be vectors and dimensions associated to it"
   ]
  },
  {
   "cell_type": "code",
   "execution_count": 12,
   "id": "efb61ed7",
   "metadata": {},
   "outputs": [
    {
     "name": "stdout",
     "output_type": "stream",
     "text": [
      "Vocabulary: {'.': 0, ',': 1, 'india': 2, 'vision': 3, 'must': 4, 'nation': 5, 'world': 6, 'us': 7, 'three': 8, 'freedom': 9, 'respect': 10, 'see': 11, 'first': 12, 'power': 13, 'yet': 14, '’': 15, 'strength': 16, 'worked': 17, '?': 18, 'life': 19, 'believe': 20, 'dr.': 21, 'great': 22, 'minds': 23, 'one': 24, 'years': 25, 'history': 26, 'developed': 27, 'conquered': 28, 'protect': 29, 'others.that': 30, 'war': 31, 'nurture': 32, 'independence': 33, 'build': 34, 'free': 35, 'tried': 36, 'got': 37, 'started': 38, 'way': 39, 'enforce': 40, 'took': 41, 'culture': 42, 'turks': 43, 'visions': 44, 'people': 45, 'come': 46, 'invaded': 47, 'captured': 48, 'lands': 49, 'alexander': 50, 'onwards': 51, 'greeks': 52, 'moguls': 53, 'land': 54, 'portuguese': 55, 'british': 56, 'french': 57, 'dutch': 58, 'came': 59, 'looted': 60, 'done': 61, 'anyone': 62, 'grabbed': 63, 'second': 64, 'career': 65, 'development': 66, 'respects': 67, 'military': 68, 'also': 69, 'economic': 70, 'go': 71, 'hand-in-hand': 72, 'good': 73, 'fortune': 74, 'vikram': 75, 'sarabhai': 76, 'dept': 77, 'space': 78, 'professor': 79, 'satish': 80, 'dhawan': 81, 'succeeded': 82, 'brahm': 83, 'prakash': 84, 'father': 85, 'nuclear': 86, 'material': 87, 'lucky': 88, 'closely': 89, 'consider': 90, 'opportunity': 91, 'four': 92, 'strong': 93, 'stands': 94, 'fifty': 95, 'unless': 96, 'developing': 97, 'milestones': 98, 'among': 99, 'top': 100, 'nations': 101, 'terms': 102, 'gdp': 103, 'percent': 104, 'growth': 105, 'rate': 106, 'areas': 107, 'poverty': 108, 'levels': 109, 'falling': 110, 'achievements': 111, 'globally': 112, 'recognised': 113, 'today': 114, 'lack': 115, 'self-confidence': 116, 'self-reliant': 117, 'self-assured': 118, 'incorrect': 119, 'third': 120, 'stand': 121, 'time': 122}\n"
     ]
    }
   ],
   "source": [
    "print(\"Vocabulary:\", vocabulary)"
   ]
  },
  {
   "cell_type": "code",
   "execution_count": 14,
   "id": "4bda0abe",
   "metadata": {},
   "outputs": [
    {
     "name": "stdout",
     "output_type": "stream",
     "text": [
      "Vector for 'test': [-0.00219905 -0.00970885  0.00929075  0.00203636 -0.00116388 -0.00551955\n",
      " -0.0085126  -0.00989383  0.00894091 -0.00250522  0.00459427 -0.00452481\n",
      "  0.00995189  0.00366171  0.00103129 -0.00403834  0.00122027 -0.00265451\n",
      "  0.00735284  0.00447542  0.00099955  0.0034782   0.00372712 -0.00680036\n",
      "  0.00893243  0.00173499 -0.00579935  0.00866838 -0.00129286  0.00818304\n",
      " -0.0014927   0.00698649  0.00273452 -0.00436226 -0.00374683  0.00919046\n",
      "  0.00159645 -0.00599784  0.00034776 -0.00195135  0.00159242 -0.00771525\n",
      "  0.00738298  0.00131083  0.00787099  0.00445568 -0.00439675  0.00376054\n",
      " -0.0006357  -0.00984484  0.00825004  0.00964326  0.00965426 -0.00379659\n",
      " -0.00844202  0.00483581 -0.00765107  0.00853567  0.00275977  0.00560496\n",
      "  0.00611362  0.00046455 -0.00209463  0.000778    0.00983559 -0.00711718\n",
      " -0.00155743 -0.00235984  0.00487084  0.00645515 -0.0041403   0.00361816\n",
      " -0.00447258  0.00326611  0.0081738   0.00361967 -0.0045711  -0.00301938\n",
      "  0.00787179  0.00959686  0.00580789 -0.00326881 -0.00183876 -0.00624998\n",
      " -0.00429521  0.00336554 -0.00648911 -0.00661903  0.00811393  0.0095074\n",
      "  0.00814451  0.00150699 -0.00880124 -0.00759764  0.0015789  -0.00952675\n",
      " -0.00741688  0.00203283 -0.00292885 -0.00916266]\n"
     ]
    }
   ],
   "source": [
    "# Accessing the vector for a specific word\n",
    "word_vector = model.wv['war']\n",
    "print(\"Vector for 'war':\", word_vector)"
   ]
  },
  {
   "cell_type": "code",
   "execution_count": 15,
   "id": "45d27080",
   "metadata": {},
   "outputs": [
    {
     "name": "stdout",
     "output_type": "stream",
     "text": [
      "Words in the vocabulary: ['.', ',', 'india', 'vision', 'must', 'nation', 'world', 'us', 'three', 'freedom', 'respect', 'see', 'first', 'power', 'yet', '’', 'strength', 'worked', '?', 'life', 'believe', 'dr.', 'great', 'minds', 'one', 'years', 'history', 'developed', 'conquered', 'protect', 'others.that', 'war', 'nurture', 'independence', 'build', 'free', 'tried', 'got', 'started', 'way', 'enforce', 'took', 'culture', 'turks', 'visions', 'people', 'come', 'invaded', 'captured', 'lands', 'alexander', 'onwards', 'greeks', 'moguls', 'land', 'portuguese', 'british', 'french', 'dutch', 'came', 'looted', 'done', 'anyone', 'grabbed', 'second', 'career', 'development', 'respects', 'military', 'also', 'economic', 'go', 'hand-in-hand', 'good', 'fortune', 'vikram', 'sarabhai', 'dept', 'space', 'professor', 'satish', 'dhawan', 'succeeded', 'brahm', 'prakash', 'father', 'nuclear', 'material', 'lucky', 'closely', 'consider', 'opportunity', 'four', 'strong', 'stands', 'fifty', 'unless', 'developing', 'milestones', 'among', 'top', 'nations', 'terms', 'gdp', 'percent', 'growth', 'rate', 'areas', 'poverty', 'levels', 'falling', 'achievements', 'globally', 'recognised', 'today', 'lack', 'self-confidence', 'self-reliant', 'self-assured', 'incorrect', 'third', 'stand', 'time']\n"
     ]
    }
   ],
   "source": [
    "# If you want to see all words in the vocabulary\n",
    "words = list(vocabulary.keys())\n",
    "print(\"Words in the vocabulary:\", words)"
   ]
  },
  {
   "cell_type": "code",
   "execution_count": 18,
   "id": "d9835c7c",
   "metadata": {},
   "outputs": [
    {
     "name": "stdout",
     "output_type": "stream",
     "text": [
      "Vector for 'war': [-0.00219905 -0.00970885  0.00929075  0.00203636 -0.00116388 -0.00551955\n",
      " -0.0085126  -0.00989383  0.00894091 -0.00250522  0.00459427 -0.00452481\n",
      "  0.00995189  0.00366171  0.00103129 -0.00403834  0.00122027 -0.00265451\n",
      "  0.00735284  0.00447542  0.00099955  0.0034782   0.00372712 -0.00680036\n",
      "  0.00893243  0.00173499 -0.00579935  0.00866838 -0.00129286  0.00818304\n",
      " -0.0014927   0.00698649  0.00273452 -0.00436226 -0.00374683  0.00919046\n",
      "  0.00159645 -0.00599784  0.00034776 -0.00195135  0.00159242 -0.00771525\n",
      "  0.00738298  0.00131083  0.00787099  0.00445568 -0.00439675  0.00376054\n",
      " -0.0006357  -0.00984484  0.00825004  0.00964326  0.00965426 -0.00379659\n",
      " -0.00844202  0.00483581 -0.00765107  0.00853567  0.00275977  0.00560496\n",
      "  0.00611362  0.00046455 -0.00209463  0.000778    0.00983559 -0.00711718\n",
      " -0.00155743 -0.00235984  0.00487084  0.00645515 -0.0041403   0.00361816\n",
      " -0.00447258  0.00326611  0.0081738   0.00361967 -0.0045711  -0.00301938\n",
      "  0.00787179  0.00959686  0.00580789 -0.00326881 -0.00183876 -0.00624998\n",
      " -0.00429521  0.00336554 -0.00648911 -0.00661903  0.00811393  0.0095074\n",
      "  0.00814451  0.00150699 -0.00880124 -0.00759764  0.0015789  -0.00952675\n",
      " -0.00741688  0.00203283 -0.00292885 -0.00916266]\n"
     ]
    }
   ],
   "source": [
    "word_vector = model.wv['war']\n",
    "print(\"Vector for 'war':\", word_vector)"
   ]
  },
  {
   "cell_type": "code",
   "execution_count": 17,
   "id": "dbd1523e",
   "metadata": {},
   "outputs": [
    {
     "data": {
      "text/plain": [
       "array([-0.00219905, -0.00970885,  0.00929075,  0.00203636, -0.00116388,\n",
       "       -0.00551955, -0.0085126 , -0.00989383,  0.00894091, -0.00250522,\n",
       "        0.00459427, -0.00452481,  0.00995189,  0.00366171,  0.00103129,\n",
       "       -0.00403834,  0.00122027, -0.00265451,  0.00735284,  0.00447542,\n",
       "        0.00099955,  0.0034782 ,  0.00372712, -0.00680036,  0.00893243,\n",
       "        0.00173499, -0.00579935,  0.00866838, -0.00129286,  0.00818304,\n",
       "       -0.0014927 ,  0.00698649,  0.00273452, -0.00436226, -0.00374683,\n",
       "        0.00919046,  0.00159645, -0.00599784,  0.00034776, -0.00195135,\n",
       "        0.00159242, -0.00771525,  0.00738298,  0.00131083,  0.00787099,\n",
       "        0.00445568, -0.00439675,  0.00376054, -0.0006357 , -0.00984484,\n",
       "        0.00825004,  0.00964326,  0.00965426, -0.00379659, -0.00844202,\n",
       "        0.00483581, -0.00765107,  0.00853567,  0.00275977,  0.00560496,\n",
       "        0.00611362,  0.00046455, -0.00209463,  0.000778  ,  0.00983559,\n",
       "       -0.00711718, -0.00155743, -0.00235984,  0.00487084,  0.00645515,\n",
       "       -0.0041403 ,  0.00361816, -0.00447258,  0.00326611,  0.0081738 ,\n",
       "        0.00361967, -0.0045711 , -0.00301938,  0.00787179,  0.00959686,\n",
       "        0.00580789, -0.00326881, -0.00183876, -0.00624998, -0.00429521,\n",
       "        0.00336554, -0.00648911, -0.00661903,  0.00811393,  0.0095074 ,\n",
       "        0.00814451,  0.00150699, -0.00880124, -0.00759764,  0.0015789 ,\n",
       "       -0.00952675, -0.00741688,  0.00203283, -0.00292885, -0.00916266],\n",
       "      dtype=float32)"
      ]
     },
     "execution_count": 17,
     "metadata": {},
     "output_type": "execute_result"
    }
   ],
   "source": [
    "# Finding Word Vectors\n",
    "word_vector = model.wv['war']\n",
    "word_vector\n",
    "#if i want to find the vector of war word and if i want to find the relationship "
   ]
  },
  {
   "cell_type": "code",
   "execution_count": 22,
   "id": "6f9053a1",
   "metadata": {},
   "outputs": [
    {
     "data": {
      "text/plain": [
       "[('rate', 0.17207381129264832),\n",
       " ('’', 0.1588246375322342),\n",
       " ('professor', 0.15752418339252472),\n",
       " ('material', 0.1459617018699646),\n",
       " ('great', 0.14304538071155548),\n",
       " ('unless', 0.14020974934101105),\n",
       " ('us', 0.12788504362106323),\n",
       " ('looted', 0.12448826432228088),\n",
       " ('self-reliant', 0.1218823492527008),\n",
       " ('worked', 0.11109073460102081)]"
      ]
     },
     "execution_count": 22,
     "metadata": {},
     "output_type": "execute_result"
    }
   ],
   "source": [
    "# Most similar words\n",
    "similar = model.wv.most_similar('war')\n",
    "similar\n",
    "#if i try to find most similar word related to the war "
   ]
  },
  {
   "cell_type": "code",
   "execution_count": 23,
   "id": "da084b6e",
   "metadata": {},
   "outputs": [
    {
     "data": {
      "text/plain": [
       "[('unless', 0.2513527274131775),\n",
       " ('moguls', 0.2480589896440506),\n",
       " ('.', 0.2167753428220749),\n",
       " ('visions', 0.21363484859466553),\n",
       " ('development', 0.20419523119926453),\n",
       " ('turks', 0.16215139627456665),\n",
       " ('self-confidence', 0.1557946652173996),\n",
       " ('father', 0.153036966919899),\n",
       " ('areas', 0.14788691699504852),\n",
       " ('falling', 0.14413867890834808)]"
      ]
     },
     "execution_count": 23,
     "metadata": {},
     "output_type": "execute_result"
    }
   ],
   "source": [
    "similar = model.wv.most_similar('freedom')\n",
    "similar"
   ]
  },
  {
   "cell_type": "code",
   "execution_count": 21,
   "id": "2c11eac8",
   "metadata": {},
   "outputs": [
    {
     "data": {
      "text/plain": [
       "[('visions', 0.1814650446176529),\n",
       " ('growth', 0.1663494110107422),\n",
       " ('one', 0.1643451601266861),\n",
       " ('took', 0.1643296331167221),\n",
       " (',', 0.15887504816055298),\n",
       " ('fifty', 0.1472669094800949),\n",
       " ('developing', 0.14714019000530243),\n",
       " ('worked', 0.13810552656650543),\n",
       " ('development', 0.13769842684268951),\n",
       " ('time', 0.13293516635894775)]"
      ]
     },
     "execution_count": 21,
     "metadata": {},
     "output_type": "execute_result"
    }
   ],
   "source": [
    "similar = model.wv.most_similar('vikram')\n",
    "similar"
   ]
  },
  {
   "cell_type": "code",
   "execution_count": 25,
   "id": "690a58b7",
   "metadata": {},
   "outputs": [
    {
     "ename": "KeyError",
     "evalue": "\"Key 'son' not present in vocabulary\"",
     "output_type": "error",
     "traceback": [
      "\u001b[1;31m---------------------------------------------------------------------------\u001b[0m",
      "\u001b[1;31mKeyError\u001b[0m                                  Traceback (most recent call last)",
      "Cell \u001b[1;32mIn[25], line 2\u001b[0m\n\u001b[0;32m      1\u001b[0m \u001b[38;5;66;03m# Key son is not present in vocabulary\u001b[39;00m\n\u001b[1;32m----> 2\u001b[0m similar \u001b[38;5;241m=\u001b[39m model\u001b[38;5;241m.\u001b[39mwv\u001b[38;5;241m.\u001b[39mmost_similar(\u001b[38;5;124m'\u001b[39m\u001b[38;5;124mson\u001b[39m\u001b[38;5;124m'\u001b[39m)\n\u001b[0;32m      3\u001b[0m son\n",
      "File \u001b[1;32mC:\\ProgramData\\anaconda3\\Lib\\site-packages\\gensim\\models\\keyedvectors.py:841\u001b[0m, in \u001b[0;36mKeyedVectors.most_similar\u001b[1;34m(self, positive, negative, topn, clip_start, clip_end, restrict_vocab, indexer)\u001b[0m\n\u001b[0;32m    838\u001b[0m         weight[idx] \u001b[38;5;241m=\u001b[39m item[\u001b[38;5;241m1\u001b[39m]\n\u001b[0;32m    840\u001b[0m \u001b[38;5;66;03m# compute the weighted average of all keys\u001b[39;00m\n\u001b[1;32m--> 841\u001b[0m mean \u001b[38;5;241m=\u001b[39m \u001b[38;5;28mself\u001b[39m\u001b[38;5;241m.\u001b[39mget_mean_vector(keys, weight, pre_normalize\u001b[38;5;241m=\u001b[39m\u001b[38;5;28;01mTrue\u001b[39;00m, post_normalize\u001b[38;5;241m=\u001b[39m\u001b[38;5;28;01mTrue\u001b[39;00m, ignore_missing\u001b[38;5;241m=\u001b[39m\u001b[38;5;28;01mFalse\u001b[39;00m)\n\u001b[0;32m    842\u001b[0m all_keys \u001b[38;5;241m=\u001b[39m [\n\u001b[0;32m    843\u001b[0m     \u001b[38;5;28mself\u001b[39m\u001b[38;5;241m.\u001b[39mget_index(key) \u001b[38;5;28;01mfor\u001b[39;00m key \u001b[38;5;129;01min\u001b[39;00m keys \u001b[38;5;28;01mif\u001b[39;00m \u001b[38;5;28misinstance\u001b[39m(key, _KEY_TYPES) \u001b[38;5;129;01mand\u001b[39;00m \u001b[38;5;28mself\u001b[39m\u001b[38;5;241m.\u001b[39mhas_index_for(key)\n\u001b[0;32m    844\u001b[0m ]\n\u001b[0;32m    846\u001b[0m \u001b[38;5;28;01mif\u001b[39;00m indexer \u001b[38;5;129;01mis\u001b[39;00m \u001b[38;5;129;01mnot\u001b[39;00m \u001b[38;5;28;01mNone\u001b[39;00m \u001b[38;5;129;01mand\u001b[39;00m \u001b[38;5;28misinstance\u001b[39m(topn, \u001b[38;5;28mint\u001b[39m):\n",
      "File \u001b[1;32mC:\\ProgramData\\anaconda3\\Lib\\site-packages\\gensim\\models\\keyedvectors.py:518\u001b[0m, in \u001b[0;36mKeyedVectors.get_mean_vector\u001b[1;34m(self, keys, weights, pre_normalize, post_normalize, ignore_missing)\u001b[0m\n\u001b[0;32m    516\u001b[0m         total_weight \u001b[38;5;241m+\u001b[39m\u001b[38;5;241m=\u001b[39m \u001b[38;5;28mabs\u001b[39m(weights[idx])\n\u001b[0;32m    517\u001b[0m     \u001b[38;5;28;01melif\u001b[39;00m \u001b[38;5;129;01mnot\u001b[39;00m ignore_missing:\n\u001b[1;32m--> 518\u001b[0m         \u001b[38;5;28;01mraise\u001b[39;00m \u001b[38;5;167;01mKeyError\u001b[39;00m(\u001b[38;5;124mf\u001b[39m\u001b[38;5;124m\"\u001b[39m\u001b[38;5;124mKey \u001b[39m\u001b[38;5;124m'\u001b[39m\u001b[38;5;132;01m{\u001b[39;00mkey\u001b[38;5;132;01m}\u001b[39;00m\u001b[38;5;124m'\u001b[39m\u001b[38;5;124m not present in vocabulary\u001b[39m\u001b[38;5;124m\"\u001b[39m)\n\u001b[0;32m    520\u001b[0m \u001b[38;5;28;01mif\u001b[39;00m total_weight \u001b[38;5;241m>\u001b[39m \u001b[38;5;241m0\u001b[39m:\n\u001b[0;32m    521\u001b[0m     mean \u001b[38;5;241m=\u001b[39m mean \u001b[38;5;241m/\u001b[39m total_weight\n",
      "\u001b[1;31mKeyError\u001b[0m: \"Key 'son' not present in vocabulary\""
     ]
    }
   ],
   "source": [
    "# Key son is not present in vocabulary\n",
    "similar = model.wv.most_similar('son')\n",
    "son"
   ]
  },
  {
   "cell_type": "code",
   "execution_count": null,
   "id": "c9d15308",
   "metadata": {},
   "outputs": [],
   "source": [
    "#STILL MORE RESEARCH GOING ON REGARDS TO THE WORD2VEC"
   ]
  },
  {
   "cell_type": "code",
   "execution_count": null,
   "id": "7e09a67b",
   "metadata": {},
   "outputs": [],
   "source": []
  }
 ],
 "metadata": {
  "kernelspec": {
   "display_name": "Python 3 (ipykernel)",
   "language": "python",
   "name": "python3"
  },
  "language_info": {
   "codemirror_mode": {
    "name": "ipython",
    "version": 3
   },
   "file_extension": ".py",
   "mimetype": "text/x-python",
   "name": "python",
   "nbconvert_exporter": "python",
   "pygments_lexer": "ipython3",
   "version": "3.11.5"
  },
  "varInspector": {
   "cols": {
    "lenName": 16,
    "lenType": 16,
    "lenVar": 40
   },
   "kernels_config": {
    "python": {
     "delete_cmd_postfix": "",
     "delete_cmd_prefix": "del ",
     "library": "var_list.py",
     "varRefreshCmd": "print(var_dic_list())"
    },
    "r": {
     "delete_cmd_postfix": ") ",
     "delete_cmd_prefix": "rm(",
     "library": "var_list.r",
     "varRefreshCmd": "cat(var_dic_list()) "
    }
   },
   "types_to_exclude": [
    "module",
    "function",
    "builtin_function_or_method",
    "instance",
    "_Feature"
   ],
   "window_display": false
  }
 },
 "nbformat": 4,
 "nbformat_minor": 5
}
