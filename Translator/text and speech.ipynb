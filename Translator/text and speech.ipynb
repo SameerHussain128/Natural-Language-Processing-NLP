{
 "cells": [
  {
   "cell_type": "code",
   "execution_count": 1,
   "id": "4765abde",
   "metadata": {},
   "outputs": [],
   "source": [
    "# pip install deep_translator"
   ]
  },
  {
   "cell_type": "code",
   "execution_count": 2,
   "id": "22a68f85",
   "metadata": {},
   "outputs": [],
   "source": [
    "# pip install gtts"
   ]
  },
  {
   "cell_type": "code",
   "execution_count": 2,
   "id": "043b826d",
   "metadata": {},
   "outputs": [
    {
     "name": "stdout",
     "output_type": "stream",
     "text": [
      "हाय कैसे हो सब उम्मीद करता हू ठीक होगे सब\n"
     ]
    }
   ],
   "source": [
    "from deep_translator import GoogleTranslator\n",
    "from gtts import gTTS\n",
    "from io import BytesIO\n",
    "\n",
    "def translate_text(text,dest_lang):\n",
    "    translate_text = GoogleTranslator(source='en',target=dest_lang).translate(text)\n",
    "    return translate_text\n",
    "\n",
    "def text_to_speech(text,dest_lang):\n",
    "    tts = gTTS(text=text,lang=dest_lang)\n",
    "    with BytesIO() as buffer:\n",
    "        tts.write_to_fp(buffer)\n",
    "        buffer.seek(0)\n",
    "        audio_data = buffer.read()\n",
    "    return audio_data\n",
    "\n",
    "text = \"hi kaise ho sab ummed karta hu thik hoge sab \"\n",
    "dest_lang = 'hi'\n",
    "\n",
    "print(translate_text(text,dest_lang))\n",
    "\n",
    "translate_text = translate_text(text,dest_lang)\n",
    "\n",
    "#tts_audio = text_to_speech(translated_text,dest_lang)\n",
    "tts_audio = text_to_speech(translate_text, dest_lang)\n",
    "\n",
    "with open(\"translated_audio.mp3\",\"wb\") as audio_file:\n",
    "    audio_file.write(tts_audio)"
   ]
  }
 ],
 "metadata": {
  "kernelspec": {
   "display_name": "Python 3 (ipykernel)",
   "language": "python",
   "name": "python3"
  },
  "language_info": {
   "codemirror_mode": {
    "name": "ipython",
    "version": 3
   },
   "file_extension": ".py",
   "mimetype": "text/x-python",
   "name": "python",
   "nbconvert_exporter": "python",
   "pygments_lexer": "ipython3",
   "version": "3.11.5"
  }
 },
 "nbformat": 4,
 "nbformat_minor": 5
}
