{
 "cells": [
  {
   "cell_type": "code",
   "execution_count": 1,
   "id": "2ce535b3",
   "metadata": {},
   "outputs": [],
   "source": [
    "corpus=\"\"\"\n",
    "Hii all, my name is Mohd Sameer! from Hyderabad.\n",
    "Iam a Data scientist.\n",
    "Welcome to Sameer's nlp repository.\n",
    "\n",
    "\"\"\""
   ]
  },
  {
   "cell_type": "code",
   "execution_count": 2,
   "id": "d3a7038e",
   "metadata": {},
   "outputs": [],
   "source": [
    "# Paragraph -> Sentence\n",
    "from nltk.tokenize import sent_tokenize"
   ]
  },
  {
   "cell_type": "code",
   "execution_count": 3,
   "id": "e4285444",
   "metadata": {},
   "outputs": [
    {
     "data": {
      "text/plain": [
       "['\\nHii all, my name is Mohd Sameer!',\n",
       " 'from Hyderabad.',\n",
       " 'Iam a Data scientist.',\n",
       " \"Welcome to Sameer's nlp repository.\"]"
      ]
     },
     "execution_count": 3,
     "metadata": {},
     "output_type": "execute_result"
    }
   ],
   "source": [
    "sent_tokenize(corpus)"
   ]
  },
  {
   "cell_type": "markdown",
   "id": "04e3c7c0",
   "metadata": {},
   "source": [
    "### Insights\n",
    "* By ! and . it will create a new line new sentence"
   ]
  },
  {
   "cell_type": "code",
   "execution_count": 4,
   "id": "714c868a",
   "metadata": {},
   "outputs": [],
   "source": [
    "# Paragraph -> Word\n",
    "from nltk.tokenize import word_tokenize"
   ]
  },
  {
   "cell_type": "code",
   "execution_count": 5,
   "id": "8b3d6e23",
   "metadata": {},
   "outputs": [
    {
     "data": {
      "text/plain": [
       "['Hii',\n",
       " 'all',\n",
       " ',',\n",
       " 'my',\n",
       " 'name',\n",
       " 'is',\n",
       " 'Mohd',\n",
       " 'Sameer',\n",
       " '!',\n",
       " 'from',\n",
       " 'Hyderabad',\n",
       " '.',\n",
       " 'Iam',\n",
       " 'a',\n",
       " 'Data',\n",
       " 'scientist',\n",
       " '.',\n",
       " 'Welcome',\n",
       " 'to',\n",
       " 'Sameer',\n",
       " \"'s\",\n",
       " 'nlp',\n",
       " 'repository',\n",
       " '.']"
      ]
     },
     "execution_count": 5,
     "metadata": {},
     "output_type": "execute_result"
    }
   ],
   "source": [
    "word_tokenize(corpus)"
   ]
  },
  {
   "cell_type": "code",
   "execution_count": 6,
   "id": "506be086",
   "metadata": {},
   "outputs": [],
   "source": [
    "# Paragraph -> Word\n",
    "from nltk.tokenize import wordpunct_tokenize"
   ]
  },
  {
   "cell_type": "code",
   "execution_count": 7,
   "id": "d5b32e1e",
   "metadata": {},
   "outputs": [
    {
     "data": {
      "text/plain": [
       "['Hii',\n",
       " 'all',\n",
       " ',',\n",
       " 'my',\n",
       " 'name',\n",
       " 'is',\n",
       " 'Mohd',\n",
       " 'Sameer',\n",
       " '!',\n",
       " 'from',\n",
       " 'Hyderabad',\n",
       " '.',\n",
       " 'Iam',\n",
       " 'a',\n",
       " 'Data',\n",
       " 'scientist',\n",
       " '.',\n",
       " 'Welcome',\n",
       " 'to',\n",
       " 'Sameer',\n",
       " \"'\",\n",
       " 's',\n",
       " 'nlp',\n",
       " 'repository',\n",
       " '.']"
      ]
     },
     "execution_count": 7,
     "metadata": {},
     "output_type": "execute_result"
    }
   ],
   "source": [
    "wordpunct_tokenize(corpus)"
   ]
  },
  {
   "cell_type": "markdown",
   "id": "8929246b",
   "metadata": {},
   "source": [
    "### Insights\n",
    "* It will detailly Split the words even symbols '"
   ]
  },
  {
   "cell_type": "code",
   "execution_count": 8,
   "id": "5a4da256",
   "metadata": {},
   "outputs": [],
   "source": [
    "# Paragraph -> Word\n",
    "from nltk.tokenize import TreebankWordTokenizer"
   ]
  },
  {
   "cell_type": "code",
   "execution_count": 9,
   "id": "b68cc1ee",
   "metadata": {},
   "outputs": [],
   "source": [
    "tokenizer=TreebankWordTokenizer()"
   ]
  },
  {
   "cell_type": "code",
   "execution_count": 10,
   "id": "291d1492",
   "metadata": {},
   "outputs": [
    {
     "data": {
      "text/plain": [
       "['Hii',\n",
       " 'all',\n",
       " ',',\n",
       " 'my',\n",
       " 'name',\n",
       " 'is',\n",
       " 'Mohd',\n",
       " 'Sameer',\n",
       " '!',\n",
       " 'from',\n",
       " 'Hyderabad.',\n",
       " 'Iam',\n",
       " 'a',\n",
       " 'Data',\n",
       " 'scientist.',\n",
       " 'Welcome',\n",
       " 'to',\n",
       " 'Sameer',\n",
       " \"'s\",\n",
       " 'nlp',\n",
       " 'repository',\n",
       " '.']"
      ]
     },
     "execution_count": 10,
     "metadata": {},
     "output_type": "execute_result"
    }
   ],
   "source": [
    "tokenizer.tokenize(corpus)"
   ]
  },
  {
   "cell_type": "markdown",
   "id": "c0918522",
   "metadata": {},
   "source": [
    "### Insights\n",
    "* It will append dot (.) with previous word"
   ]
  }
 ],
 "metadata": {
  "kernelspec": {
   "display_name": "Python 3 (ipykernel)",
   "language": "python",
   "name": "python3"
  },
  "language_info": {
   "codemirror_mode": {
    "name": "ipython",
    "version": 3
   },
   "file_extension": ".py",
   "mimetype": "text/x-python",
   "name": "python",
   "nbconvert_exporter": "python",
   "pygments_lexer": "ipython3",
   "version": "3.11.5"
  },
  "varInspector": {
   "cols": {
    "lenName": 16,
    "lenType": 16,
    "lenVar": 40
   },
   "kernels_config": {
    "python": {
     "delete_cmd_postfix": "",
     "delete_cmd_prefix": "del ",
     "library": "var_list.py",
     "varRefreshCmd": "print(var_dic_list())"
    },
    "r": {
     "delete_cmd_postfix": ") ",
     "delete_cmd_prefix": "rm(",
     "library": "var_list.r",
     "varRefreshCmd": "cat(var_dic_list()) "
    }
   },
   "types_to_exclude": [
    "module",
    "function",
    "builtin_function_or_method",
    "instance",
    "_Feature"
   ],
   "window_display": false
  }
 },
 "nbformat": 4,
 "nbformat_minor": 5
}
