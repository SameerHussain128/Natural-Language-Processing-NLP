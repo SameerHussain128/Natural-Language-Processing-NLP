{
 "cells": [
  {
   "cell_type": "code",
   "execution_count": 1,
   "id": "38da7a0a",
   "metadata": {},
   "outputs": [],
   "source": [
    "# !python -m spacy download fr_core_news_sm"
   ]
  },
  {
   "cell_type": "code",
   "execution_count": 2,
   "id": "c7079630",
   "metadata": {},
   "outputs": [],
   "source": [
    "import spacy\n",
    "# from spacy.lang.fr.examples import sentences "
   ]
  },
  {
   "cell_type": "code",
   "execution_count": 3,
   "id": "9111cf53",
   "metadata": {},
   "outputs": [
    {
     "name": "stdout",
     "output_type": "stream",
     "text": [
      "salut\n",
      "comment\n",
      "vas\n",
      "-\n",
      "tu\n",
      "?\n",
      "je\n",
      "vais\n",
      "bien\n",
      ".\n"
     ]
    }
   ],
   "source": [
    "nlp = spacy.load(\"fr_core_news_sm\")\n",
    "doc = nlp(\"salut comment vas-tu? je vais bien.\")\n",
    "for token in doc:\n",
    "    print(token.text)"
   ]
  },
  {
   "cell_type": "code",
   "execution_count": 4,
   "id": "a120cdba",
   "metadata": {},
   "outputs": [
    {
     "name": "stdout",
     "output_type": "stream",
     "text": [
      "100\n",
      "86\n",
      "96\n",
      "92\n",
      "92\n",
      "97\n",
      "95\n",
      "100\n",
      "86\n",
      "97\n"
     ]
    }
   ],
   "source": [
    "for token in doc:\n",
    "    print(token.pos)"
   ]
  },
  {
   "cell_type": "code",
   "execution_count": 5,
   "id": "5c786174",
   "metadata": {},
   "outputs": [
    {
     "name": "stdout",
     "output_type": "stream",
     "text": [
      "VERB\n",
      "ADV\n",
      "PROPN\n",
      "NOUN\n",
      "NOUN\n",
      "PUNCT\n",
      "PRON\n",
      "VERB\n",
      "ADV\n",
      "PUNCT\n"
     ]
    }
   ],
   "source": [
    "for token in doc:\n",
    "    print(token.pos_)"
   ]
  },
  {
   "cell_type": "code",
   "execution_count": 6,
   "id": "cbd34c7d",
   "metadata": {},
   "outputs": [
    {
     "name": "stdout",
     "output_type": "stream",
     "text": [
      "salut VERB\n",
      "comment ADV\n",
      "vas PROPN\n",
      "- NOUN\n",
      "tu NOUN\n",
      "? PUNCT\n",
      "je PRON\n",
      "vais VERB\n",
      "bien ADV\n",
      ". PUNCT\n"
     ]
    }
   ],
   "source": [
    "for token in doc:\n",
    "    print(token.text, token.pos_)"
   ]
  },
  {
   "cell_type": "code",
   "execution_count": 7,
   "id": "87d50d2c",
   "metadata": {},
   "outputs": [
    {
     "name": "stdout",
     "output_type": "stream",
     "text": [
      "salut VERB ROOT\n",
      "comment ADV advmod\n",
      "vas PROPN obl:mod\n",
      "- NOUN obl:agent\n",
      "tu NOUN obl:agent\n",
      "? PUNCT punct\n",
      "je PRON nsubj\n",
      "vais VERB ROOT\n",
      "bien ADV advmod\n",
      ". PUNCT punct\n"
     ]
    }
   ],
   "source": [
    "doc = nlp(\"salut comment vas-tu? je vais bien.\")\n",
    "for token in doc:\n",
    "    print(token.text, token.pos_, token.dep_)"
   ]
  },
  {
   "cell_type": "code",
   "execution_count": 8,
   "id": "ebc6d99b",
   "metadata": {},
   "outputs": [],
   "source": [
    "text = \"\"\"La ville de Paris est connue dans le monde entier pour sa beauté et son histoire fascinante. Chaque coin de rue raconte une histoire différente, des boulevards animés aux ruelles pittoresques. Les cafés parisiens sont des lieux emblématiques où l'on peut savourer un café délicieux tout en observant le monde passer. La Tour Eiffel, symbole de la ville, se dresse majestueusement au-dessus de l'horizon, offrant une vue imprenable sur la capitale française. Paris est véritablement une ville où l'art, la culture et la gastronomie se rencontrent pour créer une expérience inoubliable pour tous ceux qui la visitent.\"\"\""
   ]
  },
  {
   "cell_type": "code",
   "execution_count": 9,
   "id": "c3fd479e",
   "metadata": {},
   "outputs": [],
   "source": [
    "#import spacy\n",
    "from spacy.lang.fr.stop_words import STOP_WORDS\n",
    "from string import punctuation"
   ]
  },
  {
   "cell_type": "code",
   "execution_count": 10,
   "id": "5f8c2a37",
   "metadata": {},
   "outputs": [
    {
     "data": {
      "text/plain": [
       "['se',\n",
       " 'semble',\n",
       " 'votres',\n",
       " 'anterieures',\n",
       " 'parfois',\n",
       " 'cependant',\n",
       " 'puis',\n",
       " 'même',\n",
       " 'diverse',\n",
       " 'quelques',\n",
       " 'afin',\n",
       " 'puisque',\n",
       " 'lequel',\n",
       " 'treize',\n",
       " 'tien',\n",
       " 'pas',\n",
       " 'jusqu',\n",
       " 'les',\n",
       " 'pu',\n",
       " 'differente',\n",
       " 'egalement',\n",
       " 'quels',\n",
       " 'vous',\n",
       " 'troisièmement',\n",
       " 'douze',\n",
       " 'nombreuses',\n",
       " 'sait',\n",
       " 'rendre',\n",
       " 'tel',\n",
       " 'nôtre',\n",
       " 'hou',\n",
       " 'je',\n",
       " 'derrière',\n",
       " 'mes',\n",
       " 'certain',\n",
       " 'douzième',\n",
       " 'leurs',\n",
       " 'là',\n",
       " 'comme',\n",
       " 'onze',\n",
       " \"t'\",\n",
       " 'directe',\n",
       " 'certaines',\n",
       " 'dit',\n",
       " 'lui',\n",
       " 'autrement',\n",
       " 'vers',\n",
       " 'hep',\n",
       " 'telle',\n",
       " 'avant',\n",
       " 'nous',\n",
       " 'soit',\n",
       " 'bas',\n",
       " 'serait',\n",
       " 'juste',\n",
       " 'ont',\n",
       " 'dessous',\n",
       " 'celles-la',\n",
       " 'ait',\n",
       " 'suis',\n",
       " 'très',\n",
       " 'anterieure',\n",
       " 'ces',\n",
       " 'eh',\n",
       " 'seule',\n",
       " 'or',\n",
       " 'basee',\n",
       " 'auraient',\n",
       " 'hors',\n",
       " 'tente',\n",
       " 'lui-meme',\n",
       " 'nous-mêmes',\n",
       " 'moi-même',\n",
       " 'derriere',\n",
       " 'auxquelles',\n",
       " 'avait',\n",
       " 'quatre-vingt',\n",
       " 'divers',\n",
       " 'tend',\n",
       " 'tant',\n",
       " 'y',\n",
       " 'partant',\n",
       " 'spécifique',\n",
       " 'celles-là',\n",
       " 'aie',\n",
       " 'qui',\n",
       " 'au',\n",
       " 'houp',\n",
       " 'vais',\n",
       " \"d'\",\n",
       " 'dejà',\n",
       " 'dix-neuf',\n",
       " 'dix-sept',\n",
       " 'effet',\n",
       " 'pourrais',\n",
       " 'malgre',\n",
       " 'étaient',\n",
       " 'permet',\n",
       " 'du',\n",
       " 'ce',\n",
       " 'seuls',\n",
       " 'hormis',\n",
       " 'meme',\n",
       " 'envers',\n",
       " 'malgré',\n",
       " 'ô',\n",
       " 'nouveau',\n",
       " 'autrui',\n",
       " 'il',\n",
       " 'eu',\n",
       " 'lui-même',\n",
       " 'vu',\n",
       " 'ceux',\n",
       " 'elle',\n",
       " 'lors',\n",
       " 'sauf',\n",
       " 'elle-même',\n",
       " 'pourquoi',\n",
       " 'cinquantaine',\n",
       " 'delà',\n",
       " 'toi-meme',\n",
       " 'ils',\n",
       " 'siens',\n",
       " 'peux',\n",
       " 'antérieure',\n",
       " 'autres',\n",
       " 'personne',\n",
       " 'excepté',\n",
       " 'tres',\n",
       " 'près',\n",
       " 'de',\n",
       " 'importe',\n",
       " 'nôtres',\n",
       " 'sous',\n",
       " 'plutôt',\n",
       " 'aura',\n",
       " 'rend',\n",
       " 'quelque',\n",
       " 'pense',\n",
       " 'quatrièmement',\n",
       " 'possible',\n",
       " 'dès',\n",
       " 'vos',\n",
       " 'auront',\n",
       " 'depuis',\n",
       " 'huitième',\n",
       " 'directement',\n",
       " 'comment',\n",
       " 'parle',\n",
       " 'car',\n",
       " 'd’',\n",
       " 'sent',\n",
       " 'quiconque',\n",
       " 'merci',\n",
       " 'souvent',\n",
       " 'elles-memes',\n",
       " 'laquelle',\n",
       " 'ci',\n",
       " 'ouverte',\n",
       " 'aupres',\n",
       " 'cinquante',\n",
       " 'devant',\n",
       " 'qu’',\n",
       " 'eux-mêmes',\n",
       " 'où',\n",
       " 'quatrième',\n",
       " 'toutes',\n",
       " 'devra',\n",
       " 'mais',\n",
       " 'semblaient',\n",
       " 'celui-ci',\n",
       " 'un',\n",
       " 'seulement',\n",
       " 'dont',\n",
       " 'cinquantième',\n",
       " 'leur',\n",
       " 'sont',\n",
       " 'avais',\n",
       " 'assez',\n",
       " 'quelle',\n",
       " 'après',\n",
       " 'soi-même',\n",
       " 'toujours',\n",
       " 'lorsque',\n",
       " 'ni',\n",
       " 'selon',\n",
       " 'combien',\n",
       " 'différentes',\n",
       " 'plus',\n",
       " 'était',\n",
       " 'tienne',\n",
       " 'ah',\n",
       " 'â',\n",
       " 'plutot',\n",
       " 'exactement',\n",
       " 'neanmoins',\n",
       " 'durant',\n",
       " 'enfin',\n",
       " 'concernant',\n",
       " 'parler',\n",
       " 'c’',\n",
       " 'sien',\n",
       " 'hui',\n",
       " 'aux',\n",
       " 'quant-à-soi',\n",
       " 'mien',\n",
       " 'quinze',\n",
       " 'etaient',\n",
       " 'debout',\n",
       " 'moindres',\n",
       " 'dits',\n",
       " 'sans',\n",
       " 'première',\n",
       " 'differentes',\n",
       " 'vingt',\n",
       " 'dessus',\n",
       " 'suffit',\n",
       " 'ès',\n",
       " 'elle-meme',\n",
       " 'doivent',\n",
       " 'quoi',\n",
       " 'quelconque',\n",
       " 'eux',\n",
       " 'antérieur',\n",
       " 'elles-mêmes',\n",
       " 'semblable',\n",
       " 'dedans',\n",
       " 'quatorze',\n",
       " 'm’',\n",
       " 'déjà',\n",
       " 'cet',\n",
       " 'aussi',\n",
       " 'té',\n",
       " 'façon',\n",
       " 'ayant',\n",
       " 'etais',\n",
       " 'etre',\n",
       " 'seul',\n",
       " 'celle-ci',\n",
       " 'apres',\n",
       " 'que',\n",
       " 'possibles',\n",
       " 'hue',\n",
       " 'dix-huit',\n",
       " 'unes',\n",
       " 'quarante',\n",
       " 'ses',\n",
       " 'chacun',\n",
       " 'suivante',\n",
       " 'des',\n",
       " 'allaient',\n",
       " 'la',\n",
       " 'ha',\n",
       " 'celle-là',\n",
       " 'par',\n",
       " 'dixième',\n",
       " 'l’',\n",
       " 'également',\n",
       " 'cette',\n",
       " 'si',\n",
       " 'à',\n",
       " 'lès',\n",
       " 'mêmes',\n",
       " 'parmi',\n",
       " 'avoir',\n",
       " 'soixante',\n",
       " 'hi',\n",
       " 'seraient',\n",
       " 'tu',\n",
       " 'doit',\n",
       " 'avaient',\n",
       " 'neuvième',\n",
       " 'seize',\n",
       " 'sienne',\n",
       " 'peu',\n",
       " 'ta',\n",
       " 'trente',\n",
       " 'celles-ci',\n",
       " 'tiennes',\n",
       " 'ai',\n",
       " 'j’',\n",
       " 'certes',\n",
       " 'avons',\n",
       " 'ton',\n",
       " 'uns',\n",
       " 'celui',\n",
       " 'vé',\n",
       " 'moi-meme',\n",
       " 'tes',\n",
       " 'ne',\n",
       " 'premier',\n",
       " 'auxquels',\n",
       " 't’',\n",
       " 'deja',\n",
       " 'miens',\n",
       " 'revoici',\n",
       " 'nos',\n",
       " \"s'\",\n",
       " 'alors',\n",
       " 'mille',\n",
       " 'donc',\n",
       " 'restent',\n",
       " 'avec',\n",
       " 'ou',\n",
       " 'être',\n",
       " 'revoilà',\n",
       " 'sept',\n",
       " \"c'\",\n",
       " 'parce',\n",
       " 'vont',\n",
       " 'faisant',\n",
       " 'attendu',\n",
       " \"l'\",\n",
       " 'le',\n",
       " 'différente',\n",
       " 'dehors',\n",
       " 'voilà',\n",
       " 'ouverts',\n",
       " 'quant',\n",
       " 'specifiques',\n",
       " 'peuvent',\n",
       " 'tenir',\n",
       " 'sa',\n",
       " 's’',\n",
       " 'chez',\n",
       " 'lesquelles',\n",
       " 'faisaient',\n",
       " 'tous',\n",
       " 'desormais',\n",
       " 'laisser',\n",
       " 'pour',\n",
       " 'stop',\n",
       " 'bat',\n",
       " 'etait',\n",
       " 'duquel',\n",
       " 'via',\n",
       " 'es',\n",
       " 'onzième',\n",
       " 'tiens',\n",
       " 'certains',\n",
       " 'suffisante',\n",
       " 'préalable',\n",
       " 'lesquels',\n",
       " 'soi-meme',\n",
       " 'devers',\n",
       " 'nul',\n",
       " 'jusque',\n",
       " 'etant',\n",
       " 'ceux-là',\n",
       " 'tels',\n",
       " 'dite',\n",
       " 'notamment',\n",
       " 'parlent',\n",
       " 'te',\n",
       " 'tout',\n",
       " 'as',\n",
       " 'environ',\n",
       " 'nombreux',\n",
       " 'i',\n",
       " 'elles',\n",
       " 'cent',\n",
       " 'n’',\n",
       " 'premièrement',\n",
       " 'ouste',\n",
       " 'surtout',\n",
       " 'votre',\n",
       " 'semblent',\n",
       " 'est',\n",
       " 'restant',\n",
       " 'siennes',\n",
       " 'me',\n",
       " 'quelles',\n",
       " 'revoila',\n",
       " 'precisement',\n",
       " 'encore',\n",
       " 'anterieur',\n",
       " 'da',\n",
       " 'ceux-ci',\n",
       " 'feront',\n",
       " 'pouvait',\n",
       " \"qu'\",\n",
       " 'quoique',\n",
       " 'auquel',\n",
       " 'maintenant',\n",
       " 'vous-mêmes',\n",
       " 'suivant',\n",
       " 'etc',\n",
       " \"j'\",\n",
       " 'celle-la',\n",
       " 'fait',\n",
       " 'en',\n",
       " 'spécifiques',\n",
       " 'hé',\n",
       " 'vôtres',\n",
       " 'mienne',\n",
       " 'cela',\n",
       " 'telles',\n",
       " 'pendant',\n",
       " 'ouvert',\n",
       " 'différents',\n",
       " 'deuxième',\n",
       " \"m'\",\n",
       " 'différent',\n",
       " 'different',\n",
       " 'facon',\n",
       " 'suit',\n",
       " 'ma',\n",
       " 'fais',\n",
       " 'trois',\n",
       " 'differents',\n",
       " 'o',\n",
       " 'pres',\n",
       " 'font',\n",
       " 'ho',\n",
       " 'suivre',\n",
       " 'entre',\n",
       " 'précisement',\n",
       " 'dix',\n",
       " 'sera',\n",
       " 'quel',\n",
       " 'tenant',\n",
       " 'a',\n",
       " 'suffisant',\n",
       " 'vôtre',\n",
       " 'sixième',\n",
       " 'voila',\n",
       " 'ça',\n",
       " 'moi',\n",
       " 'suivants',\n",
       " 'va',\n",
       " 'pourrait',\n",
       " 'toi',\n",
       " 'relativement',\n",
       " 'miennes',\n",
       " 'longtemps',\n",
       " 'proche',\n",
       " 'abord',\n",
       " 'desquelles',\n",
       " 'allons',\n",
       " 'outre',\n",
       " 'celles',\n",
       " 'notre',\n",
       " 'procedant',\n",
       " 'deux',\n",
       " 'déja',\n",
       " 'néanmoins',\n",
       " 'tellement',\n",
       " 'vas',\n",
       " 'deuxièmement',\n",
       " 'une',\n",
       " 'cinquième',\n",
       " 'relative',\n",
       " 'dans',\n",
       " \"quelqu'un\",\n",
       " 'chaque',\n",
       " 'on',\n",
       " 'huit',\n",
       " 'reste',\n",
       " 'retour',\n",
       " 'aurait',\n",
       " \"n'\",\n",
       " 'ceci',\n",
       " 'ainsi',\n",
       " 'sur',\n",
       " 'suivantes',\n",
       " 'septième',\n",
       " 'dire',\n",
       " 'maint',\n",
       " 'seront',\n",
       " 'quand',\n",
       " 'compris',\n",
       " 'plusieurs',\n",
       " 'quatre',\n",
       " 'toi-même',\n",
       " 'diverses',\n",
       " 'six',\n",
       " 'ouias',\n",
       " 'hem',\n",
       " 'étant',\n",
       " 'antérieures',\n",
       " 'voici',\n",
       " 'seules',\n",
       " 'sinon',\n",
       " 'gens',\n",
       " 'troisième',\n",
       " 'mon',\n",
       " 'cinq',\n",
       " 'son',\n",
       " 'soi',\n",
       " 'toute',\n",
       " 'desquels',\n",
       " 'prealable',\n",
       " 'moins',\n",
       " 'specifique',\n",
       " 'celle',\n",
       " 'celui-la',\n",
       " 'na',\n",
       " 'touchant',\n",
       " 'celui-là',\n",
       " 'memes',\n",
       " 'autre',\n",
       " 'désormais',\n",
       " 'chacune',\n",
       " 'certaine',\n",
       " 'étais',\n",
       " 'et',\n",
       " 'peut']"
      ]
     },
     "execution_count": 10,
     "metadata": {},
     "output_type": "execute_result"
    }
   ],
   "source": [
    "stopwords = list(STOP_WORDS) \n",
    "stopwords"
   ]
  },
  {
   "cell_type": "code",
   "execution_count": 11,
   "id": "b1da2af2",
   "metadata": {},
   "outputs": [
    {
     "data": {
      "text/plain": [
       "507"
      ]
     },
     "execution_count": 11,
     "metadata": {},
     "output_type": "execute_result"
    }
   ],
   "source": [
    "len(stopwords)"
   ]
  },
  {
   "cell_type": "code",
   "execution_count": 12,
   "id": "2b1eaa7c",
   "metadata": {},
   "outputs": [
    {
     "data": {
      "text/plain": [
       "\"La ville de Paris est connue dans le monde entier pour sa beauté et son histoire fascinante. Chaque coin de rue raconte une histoire différente, des boulevards animés aux ruelles pittoresques. Les cafés parisiens sont des lieux emblématiques où l'on peut savourer un café délicieux tout en observant le monde passer. La Tour Eiffel, symbole de la ville, se dresse majestueusement au-dessus de l'horizon, offrant une vue imprenable sur la capitale française. Paris est véritablement une ville où l'art, la culture et la gastronomie se rencontrent pour créer une expérience inoubliable pour tous ceux qui la visitent.\""
      ]
     },
     "execution_count": 12,
     "metadata": {},
     "output_type": "execute_result"
    }
   ],
   "source": [
    "text"
   ]
  },
  {
   "cell_type": "code",
   "execution_count": 13,
   "id": "8a5448f3",
   "metadata": {},
   "outputs": [
    {
     "data": {
      "text/plain": [
       "La ville de Paris est connue dans le monde entier pour sa beauté et son histoire fascinante. Chaque coin de rue raconte une histoire différente, des boulevards animés aux ruelles pittoresques. Les cafés parisiens sont des lieux emblématiques où l'on peut savourer un café délicieux tout en observant le monde passer. La Tour Eiffel, symbole de la ville, se dresse majestueusement au-dessus de l'horizon, offrant une vue imprenable sur la capitale française. Paris est véritablement une ville où l'art, la culture et la gastronomie se rencontrent pour créer une expérience inoubliable pour tous ceux qui la visitent."
      ]
     },
     "execution_count": 13,
     "metadata": {},
     "output_type": "execute_result"
    }
   ],
   "source": [
    "doc = nlp(text)\n",
    "doc"
   ]
  },
  {
   "cell_type": "code",
   "execution_count": 14,
   "id": "eafadf33",
   "metadata": {},
   "outputs": [
    {
     "name": "stdout",
     "output_type": "stream",
     "text": [
      "['La', 'ville', 'de', 'Paris', 'est', 'connue', 'dans', 'le', 'monde', 'entier', 'pour', 'sa', 'beauté', 'et', 'son', 'histoire', 'fascinante', '.', 'Chaque', 'coin', 'de', 'rue', 'raconte', 'une', 'histoire', 'différente', ',', 'des', 'boulevards', 'animés', 'aux', 'ruelles', 'pittoresques', '.', 'Les', 'cafés', 'parisiens', 'sont', 'des', 'lieux', 'emblématiques', 'où', \"l'\", 'on', 'peut', 'savourer', 'un', 'café', 'délicieux', 'tout', 'en', 'observant', 'le', 'monde', 'passer', '.', 'La', 'Tour', 'Eiffel', ',', 'symbole', 'de', 'la', 'ville', ',', 'se', 'dresse', 'majestueusement', 'au-dessus', 'de', \"l'\", 'horizon', ',', 'offrant', 'une', 'vue', 'imprenable', 'sur', 'la', 'capitale', 'française', '.', 'Paris', 'est', 'véritablement', 'une', 'ville', 'où', \"l'\", 'art', ',', 'la', 'culture', 'et', 'la', 'gastronomie', 'se', 'rencontrent', 'pour', 'créer', 'une', 'expérience', 'inoubliable', 'pour', 'tous', 'ceux', 'qui', 'la', 'visitent', '.']\n"
     ]
    }
   ],
   "source": [
    "# lets get the tokens from text\n",
    "tokens = [token.text for token in doc]\n",
    "print(tokens) \n",
    "#when we execute everythihg we created tokens from the text & not removed any of the stopwords & didnt cleaned the data"
   ]
  },
  {
   "cell_type": "code",
   "execution_count": 15,
   "id": "d94b3ac7",
   "metadata": {},
   "outputs": [
    {
     "data": {
      "text/plain": [
       "['La',\n",
       " 'ville',\n",
       " 'de',\n",
       " 'Paris',\n",
       " 'est',\n",
       " 'connue',\n",
       " 'dans',\n",
       " 'le',\n",
       " 'monde',\n",
       " 'entier',\n",
       " 'pour',\n",
       " 'sa',\n",
       " 'beauté',\n",
       " 'et',\n",
       " 'son',\n",
       " 'histoire',\n",
       " 'fascinante',\n",
       " '.',\n",
       " 'Chaque',\n",
       " 'coin',\n",
       " 'de',\n",
       " 'rue',\n",
       " 'raconte',\n",
       " 'une',\n",
       " 'histoire',\n",
       " 'différente',\n",
       " ',',\n",
       " 'des',\n",
       " 'boulevards',\n",
       " 'animés',\n",
       " 'aux',\n",
       " 'ruelles',\n",
       " 'pittoresques',\n",
       " '.',\n",
       " 'Les',\n",
       " 'cafés',\n",
       " 'parisiens',\n",
       " 'sont',\n",
       " 'des',\n",
       " 'lieux',\n",
       " 'emblématiques',\n",
       " 'où',\n",
       " \"l'\",\n",
       " 'on',\n",
       " 'peut',\n",
       " 'savourer',\n",
       " 'un',\n",
       " 'café',\n",
       " 'délicieux',\n",
       " 'tout',\n",
       " 'en',\n",
       " 'observant',\n",
       " 'le',\n",
       " 'monde',\n",
       " 'passer',\n",
       " '.',\n",
       " 'La',\n",
       " 'Tour',\n",
       " 'Eiffel',\n",
       " ',',\n",
       " 'symbole',\n",
       " 'de',\n",
       " 'la',\n",
       " 'ville',\n",
       " ',',\n",
       " 'se',\n",
       " 'dresse',\n",
       " 'majestueusement',\n",
       " 'au-dessus',\n",
       " 'de',\n",
       " \"l'\",\n",
       " 'horizon',\n",
       " ',',\n",
       " 'offrant',\n",
       " 'une',\n",
       " 'vue',\n",
       " 'imprenable',\n",
       " 'sur',\n",
       " 'la',\n",
       " 'capitale',\n",
       " 'française',\n",
       " '.',\n",
       " 'Paris',\n",
       " 'est',\n",
       " 'véritablement',\n",
       " 'une',\n",
       " 'ville',\n",
       " 'où',\n",
       " \"l'\",\n",
       " 'art',\n",
       " ',',\n",
       " 'la',\n",
       " 'culture',\n",
       " 'et',\n",
       " 'la',\n",
       " 'gastronomie',\n",
       " 'se',\n",
       " 'rencontrent',\n",
       " 'pour',\n",
       " 'créer',\n",
       " 'une',\n",
       " 'expérience',\n",
       " 'inoubliable',\n",
       " 'pour',\n",
       " 'tous',\n",
       " 'ceux',\n",
       " 'qui',\n",
       " 'la',\n",
       " 'visitent',\n",
       " '.']"
      ]
     },
     "execution_count": 15,
     "metadata": {},
     "output_type": "execute_result"
    }
   ],
   "source": [
    "tokens"
   ]
  },
  {
   "cell_type": "code",
   "execution_count": 16,
   "id": "7b08a780",
   "metadata": {},
   "outputs": [
    {
     "data": {
      "text/plain": [
       "110"
      ]
     },
     "execution_count": 16,
     "metadata": {},
     "output_type": "execute_result"
    }
   ],
   "source": [
    "len(tokens)"
   ]
  },
  {
   "cell_type": "code",
   "execution_count": 17,
   "id": "c459aea6",
   "metadata": {},
   "outputs": [
    {
     "data": {
      "text/plain": [
       "'!\"#$%&\\'()*+,-./:;<=>?@[\\\\]^_`{|}~'"
      ]
     },
     "execution_count": 17,
     "metadata": {},
     "output_type": "execute_result"
    }
   ],
   "source": [
    "punctuation # also called as noisy characters"
   ]
  },
  {
   "cell_type": "code",
   "execution_count": 18,
   "id": "ffd54309",
   "metadata": {},
   "outputs": [
    {
     "data": {
      "text/plain": [
       "La ville de Paris est connue dans le monde entier pour sa beauté et son histoire fascinante. Chaque coin de rue raconte une histoire différente, des boulevards animés aux ruelles pittoresques. Les cafés parisiens sont des lieux emblématiques où l'on peut savourer un café délicieux tout en observant le monde passer. La Tour Eiffel, symbole de la ville, se dresse majestueusement au-dessus de l'horizon, offrant une vue imprenable sur la capitale française. Paris est véritablement une ville où l'art, la culture et la gastronomie se rencontrent pour créer une expérience inoubliable pour tous ceux qui la visitent."
      ]
     },
     "execution_count": 18,
     "metadata": {},
     "output_type": "execute_result"
    }
   ],
   "source": [
    "doc"
   ]
  },
  {
   "cell_type": "code",
   "execution_count": 19,
   "id": "d9d4eb69",
   "metadata": {},
   "outputs": [],
   "source": [
    "#we have to calcualte the freaquency of each and every word, how many time word is repetation in text \n",
    "\n",
    "word_frequencies = {}\n",
    "\n",
    "for word in doc:\n",
    "    if word.text.lower() not in stopwords:\n",
    "        if word.text.lower() not in punctuation:\n",
    "            if word.text not in word_frequencies.keys():\n",
    "                word_frequencies[word.text] = 1\n",
    "            else:\n",
    "                word_frequencies[word.text] += 1"
   ]
  },
  {
   "cell_type": "code",
   "execution_count": 20,
   "id": "3012a827",
   "metadata": {},
   "outputs": [
    {
     "data": {
      "text/plain": [
       "{'ville': 3,\n",
       " 'Paris': 2,\n",
       " 'connue': 1,\n",
       " 'monde': 2,\n",
       " 'entier': 1,\n",
       " 'beauté': 1,\n",
       " 'histoire': 2,\n",
       " 'fascinante': 1,\n",
       " 'coin': 1,\n",
       " 'rue': 1,\n",
       " 'raconte': 1,\n",
       " 'boulevards': 1,\n",
       " 'animés': 1,\n",
       " 'ruelles': 1,\n",
       " 'pittoresques': 1,\n",
       " 'cafés': 1,\n",
       " 'parisiens': 1,\n",
       " 'lieux': 1,\n",
       " 'emblématiques': 1,\n",
       " 'savourer': 1,\n",
       " 'café': 1,\n",
       " 'délicieux': 1,\n",
       " 'observant': 1,\n",
       " 'passer': 1,\n",
       " 'Tour': 1,\n",
       " 'Eiffel': 1,\n",
       " 'symbole': 1,\n",
       " 'dresse': 1,\n",
       " 'majestueusement': 1,\n",
       " 'au-dessus': 1,\n",
       " 'horizon': 1,\n",
       " 'offrant': 1,\n",
       " 'vue': 1,\n",
       " 'imprenable': 1,\n",
       " 'capitale': 1,\n",
       " 'française': 1,\n",
       " 'véritablement': 1,\n",
       " 'art': 1,\n",
       " 'culture': 1,\n",
       " 'gastronomie': 1,\n",
       " 'rencontrent': 1,\n",
       " 'créer': 1,\n",
       " 'expérience': 1,\n",
       " 'inoubliable': 1,\n",
       " 'visitent': 1}"
      ]
     },
     "execution_count": 20,
     "metadata": {},
     "output_type": "execute_result"
    }
   ],
   "source": [
    "word_frequencies\n",
    "#print(word_frequencies)"
   ]
  },
  {
   "cell_type": "code",
   "execution_count": 21,
   "id": "c952030d",
   "metadata": {},
   "outputs": [
    {
     "data": {
      "text/plain": [
       "45"
      ]
     },
     "execution_count": 21,
     "metadata": {},
     "output_type": "execute_result"
    }
   ],
   "source": [
    "len(word_frequencies) "
   ]
  },
  {
   "cell_type": "code",
   "execution_count": 22,
   "id": "0efe9d60",
   "metadata": {},
   "outputs": [
    {
     "data": {
      "text/plain": [
       "3"
      ]
     },
     "execution_count": 22,
     "metadata": {},
     "output_type": "execute_result"
    }
   ],
   "source": [
    "max_frequency = max(word_frequencies.values())\n",
    "max_frequency "
   ]
  },
  {
   "cell_type": "code",
   "execution_count": 23,
   "id": "238bacc8",
   "metadata": {},
   "outputs": [],
   "source": [
    "#to get normalized/weighted frequencies you should devide all frequencies with 11\n",
    "for word in word_frequencies.keys():\n",
    "    word_frequencies[word] = word_frequencies[word]/max_frequency"
   ]
  },
  {
   "cell_type": "code",
   "execution_count": 24,
   "id": "7098ffd6",
   "metadata": {},
   "outputs": [
    {
     "data": {
      "text/plain": [
       "{'ville': 1.0,\n",
       " 'Paris': 0.6666666666666666,\n",
       " 'connue': 0.3333333333333333,\n",
       " 'monde': 0.6666666666666666,\n",
       " 'entier': 0.3333333333333333,\n",
       " 'beauté': 0.3333333333333333,\n",
       " 'histoire': 0.6666666666666666,\n",
       " 'fascinante': 0.3333333333333333,\n",
       " 'coin': 0.3333333333333333,\n",
       " 'rue': 0.3333333333333333,\n",
       " 'raconte': 0.3333333333333333,\n",
       " 'boulevards': 0.3333333333333333,\n",
       " 'animés': 0.3333333333333333,\n",
       " 'ruelles': 0.3333333333333333,\n",
       " 'pittoresques': 0.3333333333333333,\n",
       " 'cafés': 0.3333333333333333,\n",
       " 'parisiens': 0.3333333333333333,\n",
       " 'lieux': 0.3333333333333333,\n",
       " 'emblématiques': 0.3333333333333333,\n",
       " 'savourer': 0.3333333333333333,\n",
       " 'café': 0.3333333333333333,\n",
       " 'délicieux': 0.3333333333333333,\n",
       " 'observant': 0.3333333333333333,\n",
       " 'passer': 0.3333333333333333,\n",
       " 'Tour': 0.3333333333333333,\n",
       " 'Eiffel': 0.3333333333333333,\n",
       " 'symbole': 0.3333333333333333,\n",
       " 'dresse': 0.3333333333333333,\n",
       " 'majestueusement': 0.3333333333333333,\n",
       " 'au-dessus': 0.3333333333333333,\n",
       " 'horizon': 0.3333333333333333,\n",
       " 'offrant': 0.3333333333333333,\n",
       " 'vue': 0.3333333333333333,\n",
       " 'imprenable': 0.3333333333333333,\n",
       " 'capitale': 0.3333333333333333,\n",
       " 'française': 0.3333333333333333,\n",
       " 'véritablement': 0.3333333333333333,\n",
       " 'art': 0.3333333333333333,\n",
       " 'culture': 0.3333333333333333,\n",
       " 'gastronomie': 0.3333333333333333,\n",
       " 'rencontrent': 0.3333333333333333,\n",
       " 'créer': 0.3333333333333333,\n",
       " 'expérience': 0.3333333333333333,\n",
       " 'inoubliable': 0.3333333333333333,\n",
       " 'visitent': 0.3333333333333333}"
      ]
     },
     "execution_count": 24,
     "metadata": {},
     "output_type": "execute_result"
    }
   ],
   "source": [
    "#print(word_frequencies)\n",
    "word_frequencies\n",
    "#this is the normalized frequencies of each word"
   ]
  },
  {
   "cell_type": "code",
   "execution_count": 25,
   "id": "fcdb871e",
   "metadata": {},
   "outputs": [
    {
     "data": {
      "text/plain": [
       "[La ville de Paris est connue dans le monde entier pour sa beauté et son histoire fascinante.,\n",
       " Chaque coin de rue raconte une histoire différente, des boulevards animés aux ruelles pittoresques.,\n",
       " Les cafés parisiens sont des lieux emblématiques où l'on peut savourer un café délicieux tout en observant le monde passer.,\n",
       " La Tour Eiffel, symbole de la ville, se dresse majestueusement au-dessus de l'horizon, offrant une vue imprenable sur la capitale française.,\n",
       " Paris est véritablement une ville où l'art, la culture et la gastronomie se rencontrent pour créer une expérience inoubliable pour tous ceux qui la visitent.]"
      ]
     },
     "execution_count": 25,
     "metadata": {},
     "output_type": "execute_result"
    }
   ],
   "source": [
    "sentence_tokens = [sent for sent in doc.sents]\n",
    "sentence_tokens"
   ]
  },
  {
   "cell_type": "code",
   "execution_count": 26,
   "id": "ef9fd473",
   "metadata": {},
   "outputs": [
    {
     "data": {
      "text/plain": [
       "[La ville de Paris est connue dans le monde entier pour sa beauté et son histoire fascinante.,\n",
       " Chaque coin de rue raconte une histoire différente, des boulevards animés aux ruelles pittoresques.,\n",
       " Les cafés parisiens sont des lieux emblématiques où l'on peut savourer un café délicieux tout en observant le monde passer.,\n",
       " La Tour Eiffel, symbole de la ville, se dresse majestueusement au-dessus de l'horizon, offrant une vue imprenable sur la capitale française.,\n",
       " Paris est véritablement une ville où l'art, la culture et la gastronomie se rencontrent pour créer une expérience inoubliable pour tous ceux qui la visitent.]"
      ]
     },
     "execution_count": 26,
     "metadata": {},
     "output_type": "execute_result"
    }
   ],
   "source": [
    "sentence_tokens = [sent for sent in doc.sents]\n",
    "sentence_tokens"
   ]
  },
  {
   "cell_type": "code",
   "execution_count": 27,
   "id": "f206cbc7",
   "metadata": {},
   "outputs": [],
   "source": [
    "# we are going to calculate the sentence score, to calculate the sentence score \n",
    "sentence_scores = {}\n",
    "\n",
    "for sent in sentence_tokens:\n",
    "    for word in sent:\n",
    "        if word.text.lower() in word_frequencies.keys():\n",
    "            if sent not in sentence_scores.keys():\n",
    "                sentence_scores[sent] = word_frequencies[word.text.lower()]\n",
    "            else:\n",
    "                sentence_scores[sent] += word_frequencies[word.text.lower()]"
   ]
  },
  {
   "cell_type": "code",
   "execution_count": 28,
   "id": "eebcc2ca",
   "metadata": {},
   "outputs": [
    {
     "data": {
      "text/plain": [
       "{La ville de Paris est connue dans le monde entier pour sa beauté et son histoire fascinante.: 3.666666666666667,\n",
       " Chaque coin de rue raconte une histoire différente, des boulevards animés aux ruelles pittoresques.: 3.0,\n",
       " Les cafés parisiens sont des lieux emblématiques où l'on peut savourer un café délicieux tout en observant le monde passer.: 3.6666666666666665,\n",
       " La Tour Eiffel, symbole de la ville, se dresse majestueusement au-dessus de l'horizon, offrant une vue imprenable sur la capitale française.: 4.333333333333333,\n",
       " Paris est véritablement une ville où l'art, la culture et la gastronomie se rencontrent pour créer une expérience inoubliable pour tous ceux qui la visitent.: 4.0}"
      ]
     },
     "execution_count": 28,
     "metadata": {},
     "output_type": "execute_result"
    }
   ],
   "source": [
    "sentence_scores"
   ]
  },
  {
   "cell_type": "code",
   "execution_count": 29,
   "id": "7f98ec09",
   "metadata": {},
   "outputs": [],
   "source": [
    "#lets say our case study was 30% sentence with maximum scores\n",
    "from heapq import nlargest "
   ]
  },
  {
   "cell_type": "code",
   "execution_count": 30,
   "id": "3a1ef12d",
   "metadata": {},
   "outputs": [
    {
     "data": {
      "text/plain": [
       "1"
      ]
     },
     "execution_count": 30,
     "metadata": {},
     "output_type": "execute_result"
    }
   ],
   "source": [
    "select_length = int(len(sentence_tokens)*0.3)\n",
    "select_length"
   ]
  },
  {
   "cell_type": "code",
   "execution_count": 31,
   "id": "682926be",
   "metadata": {},
   "outputs": [],
   "source": [
    "#we have to select maximum 4 sentences out of all sentences \n",
    "summary = nlargest(select_length,sentence_scores, key = sentence_scores.get)"
   ]
  },
  {
   "cell_type": "code",
   "execution_count": 32,
   "id": "50135b61",
   "metadata": {},
   "outputs": [
    {
     "data": {
      "text/plain": [
       "[La Tour Eiffel, symbole de la ville, se dresse majestueusement au-dessus de l'horizon, offrant une vue imprenable sur la capitale française.]"
      ]
     },
     "execution_count": 32,
     "metadata": {},
     "output_type": "execute_result"
    }
   ],
   "source": [
    "summary"
   ]
  },
  {
   "cell_type": "code",
   "execution_count": 33,
   "id": "49586cae",
   "metadata": {},
   "outputs": [
    {
     "data": {
      "text/plain": [
       "2"
      ]
     },
     "execution_count": 33,
     "metadata": {},
     "output_type": "execute_result"
    }
   ],
   "source": [
    "select_length = int(len(sentence_tokens)*0.4)\n",
    "select_length"
   ]
  },
  {
   "cell_type": "code",
   "execution_count": 34,
   "id": "99145584",
   "metadata": {},
   "outputs": [
    {
     "data": {
      "text/plain": [
       "[La Tour Eiffel, symbole de la ville, se dresse majestueusement au-dessus de l'horizon, offrant une vue imprenable sur la capitale française.,\n",
       " Paris est véritablement une ville où l'art, la culture et la gastronomie se rencontrent pour créer une expérience inoubliable pour tous ceux qui la visitent.]"
      ]
     },
     "execution_count": 34,
     "metadata": {},
     "output_type": "execute_result"
    }
   ],
   "source": [
    "#we have to select maximum 5 sentences out of all sentences \n",
    "summary = nlargest(select_length,sentence_scores, key = sentence_scores.get)\n",
    "summary"
   ]
  },
  {
   "cell_type": "code",
   "execution_count": 35,
   "id": "f9562c6c",
   "metadata": {},
   "outputs": [
    {
     "data": {
      "text/plain": [
       "{La ville de Paris est connue dans le monde entier pour sa beauté et son histoire fascinante.: 3.666666666666667,\n",
       " Chaque coin de rue raconte une histoire différente, des boulevards animés aux ruelles pittoresques.: 3.0,\n",
       " Les cafés parisiens sont des lieux emblématiques où l'on peut savourer un café délicieux tout en observant le monde passer.: 3.6666666666666665,\n",
       " La Tour Eiffel, symbole de la ville, se dresse majestueusement au-dessus de l'horizon, offrant une vue imprenable sur la capitale française.: 4.333333333333333,\n",
       " Paris est véritablement une ville où l'art, la culture et la gastronomie se rencontrent pour créer une expérience inoubliable pour tous ceux qui la visitent.: 4.0}"
      ]
     },
     "execution_count": 35,
     "metadata": {},
     "output_type": "execute_result"
    }
   ],
   "source": [
    "sentence_scores"
   ]
  },
  {
   "cell_type": "code",
   "execution_count": 36,
   "id": "35bfc758",
   "metadata": {},
   "outputs": [
    {
     "name": "stdout",
     "output_type": "stream",
     "text": [
      "[La Tour Eiffel, symbole de la ville, se dresse majestueusement au-dessus de l'horizon, offrant une vue imprenable sur la capitale française., Paris est véritablement une ville où l'art, la culture et la gastronomie se rencontrent pour créer une expérience inoubliable pour tous ceux qui la visitent.]\n"
     ]
    }
   ],
   "source": [
    "print(summary)"
   ]
  }
 ],
 "metadata": {
  "kernelspec": {
   "display_name": "Python 3 (ipykernel)",
   "language": "python",
   "name": "python3"
  },
  "language_info": {
   "codemirror_mode": {
    "name": "ipython",
    "version": 3
   },
   "file_extension": ".py",
   "mimetype": "text/x-python",
   "name": "python",
   "nbconvert_exporter": "python",
   "pygments_lexer": "ipython3",
   "version": "3.11.5"
  }
 },
 "nbformat": 4,
 "nbformat_minor": 5
}
